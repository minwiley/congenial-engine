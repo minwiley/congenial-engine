{
 "cells": [
  {
   "cell_type": "code",
   "execution_count": null,
   "metadata": {},
   "outputs": [],
   "source": [
    "import pandas\n",
    "import random\n",
    "\n",
    "n = 10000000 #number of records in file\n",
    "s = 100000 #desired sample size\n",
    "filename = \"data.txt\"\n",
    "skip = sorted(random.sample(xrange(n),n-s))\n",
    "df = pandas.read_csv(filename, skiprows=skip)\n",
    "\n"
   ]
  }
 ],
 "metadata": {
  "kernelspec": {
   "display_name": "Python [conda env:RunnersRun]",
   "language": "python",
   "name": "conda-env-RunnersRun-py"
  },
  "language_info": {
   "codemirror_mode": {
    "name": "ipython",
    "version": 3
   },
   "file_extension": ".py",
   "mimetype": "text/x-python",
   "name": "python",
   "nbconvert_exporter": "python",
   "pygments_lexer": "ipython3",
   "version": "3.6.5"
  }
 },
 "nbformat": 4,
 "nbformat_minor": 2
}
